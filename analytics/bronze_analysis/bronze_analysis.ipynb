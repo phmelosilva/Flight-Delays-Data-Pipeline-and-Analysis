{
 "cells": [
  {
   "cell_type": "markdown",
   "id": "76d5ea2e",
   "metadata": {},
   "source": [
    "# Análise de Dados - Camada Bronze"
   ]
  },
  {
   "cell_type": "code",
   "execution_count": null,
   "id": "cb4aecd2",
   "metadata": {},
   "outputs": [],
   "source": [
    "import numpy as np\n",
    "import pandas as pd\n",
    "import seaborn as sns\n",
    "import matplotlib.pyplot as plt\n",
    "import matplotlib.ticker as mtick\n",
    "from IPython.display import display, Markdown\n",
    "\n",
    "sns.set_theme(style='whitegrid')"
   ]
  },
  {
   "cell_type": "markdown",
   "id": "ee630503",
   "metadata": {},
   "source": [
    "## Lendo os Dados"
   ]
  },
  {
   "cell_type": "code",
   "execution_count": null,
   "id": "6d131de7",
   "metadata": {},
   "outputs": [],
   "source": [
    "flightDF = pd.read_csv(\"../../datalake/bronze/flights.csv\", sep=\";\", encoding=\"utf-8\")\n",
    "airlineDF = pd.read_csv(\"../../datalake/bronze/airlines.csv\", sep=\";\", encoding=\"utf-8\")\n",
    "airportDF = pd.read_csv(\"../../datalake/bronze/airports.csv\", sep=\";\", encoding=\"utf-8\")"
   ]
  },
  {
   "cell_type": "markdown",
   "id": "861b6e90",
   "metadata": {},
   "source": [
    "## Detalhes dos Arquivos"
   ]
  },
  {
   "cell_type": "markdown",
   "id": "b1d18235",
   "metadata": {},
   "source": [
    "### Flights\n",
    "\n",
    "- Arquivo principal:\n",
    "  - Contém os dados de voos realizados em 2015 nos Estados Unidos."
   ]
  },
  {
   "cell_type": "markdown",
   "id": "c4311b43",
   "metadata": {},
   "source": [
    "#### Informações Gerais"
   ]
  },
  {
   "cell_type": "code",
   "execution_count": null,
   "id": "b7e20a03",
   "metadata": {},
   "outputs": [],
   "source": [
    "flightDF.info()"
   ]
  },
  {
   "cell_type": "markdown",
   "id": "73252aeb",
   "metadata": {},
   "source": [
    "#### Amostra de Dados"
   ]
  },
  {
   "cell_type": "code",
   "execution_count": null,
   "id": "190789db",
   "metadata": {},
   "outputs": [],
   "source": [
    "flightDF.sample(10)"
   ]
  },
  {
   "cell_type": "markdown",
   "id": "0cc6dc7f",
   "metadata": {},
   "source": [
    "#### Resumo Estatístico"
   ]
  },
  {
   "cell_type": "code",
   "execution_count": null,
   "id": "47d1ad1d",
   "metadata": {},
   "outputs": [],
   "source": [
    "flightDF.describe()"
   ]
  },
  {
   "cell_type": "markdown",
   "id": "f6fff56e",
   "metadata": {},
   "source": [
    "#### Análise de Valores Nulos"
   ]
  },
  {
   "cell_type": "code",
   "execution_count": null,
   "id": "cdc48831",
   "metadata": {},
   "outputs": [],
   "source": [
    "pctNulosFlight = (flightDF.isnull().sum() / len(flightDF)) * 100\n",
    "\n",
    "pctNulosFlight = pctNulosFlight[pctNulosFlight > 0]\n",
    "\n",
    "if not pctNulosFlight.empty:\n",
    "  display(Markdown(\"**Foram encontrados valores nulos. Gerando gráfico...**\"))\n",
    "  pctNulosFlight = pctNulosFlight.sort_values(ascending=False)\n",
    "  \n",
    "  plt.figure(figsize=(12, 8))\n",
    "\n",
    "  ax = pctNulosFlight.plot(kind='bar', color='salmon')\n",
    "\n",
    "  plt.title('Porcentagem de Nulos por Coluna', fontsize=16)\n",
    "  plt.ylabel('Porcentagem de Valores Nulos (%)', fontsize=12)\n",
    "  plt.xlabel('Colunas do DataFrame', fontsize=12)\n",
    "  plt.xticks(rotation=45, ha='right')\n",
    "  plt.tight_layout()\n",
    "  \n",
    "  ax.yaxis.set_major_formatter(mtick.PercentFormatter())\n",
    "    \n",
    "  for p in ax.patches:\n",
    "    ax.annotate(f'{p.get_height():.2f}%', \n",
    "                (p.get_x() + p.get_width() / 2., p.get_height()), \n",
    "                ha='center', va='center', \n",
    "                xytext=(0, 9), \n",
    "                textcoords='offset points',\n",
    "                fontsize=11)\n",
    "\n",
    "  plt.ylim(0, pctNulosFlight.max() * 1.15)\n",
    "  plt.show()\n",
    "else:\n",
    "  display(Markdown(\"**Não foram encontrados valores nulos no conjunto de dados.**\"))"
   ]
  },
  {
   "cell_type": "markdown",
   "id": "721e2365",
   "metadata": {},
   "source": [
    "### Airlines\n",
    "\n",
    "- Arquivo complementar:\n",
    "  - Contém os dados das linhas aéreas dos voos presentes no arquivo principal."
   ]
  },
  {
   "cell_type": "markdown",
   "id": "b921ba2b",
   "metadata": {},
   "source": [
    "#### Informações Gerais"
   ]
  },
  {
   "cell_type": "code",
   "execution_count": null,
   "id": "fe0f4b7d",
   "metadata": {},
   "outputs": [],
   "source": [
    "airlineDF.info()"
   ]
  },
  {
   "cell_type": "markdown",
   "id": "939d3a11",
   "metadata": {},
   "source": [
    "#### Amostra de Dados"
   ]
  },
  {
   "cell_type": "code",
   "execution_count": null,
   "id": "c57541a2",
   "metadata": {},
   "outputs": [],
   "source": [
    "airlineDF.sample(10)"
   ]
  },
  {
   "cell_type": "markdown",
   "id": "e03a84cf",
   "metadata": {},
   "source": [
    "#### Resumo Estatístico"
   ]
  },
  {
   "cell_type": "code",
   "execution_count": null,
   "id": "c9c8287c",
   "metadata": {},
   "outputs": [],
   "source": [
    "airlineDF.describe()"
   ]
  },
  {
   "cell_type": "markdown",
   "id": "2ae70a66",
   "metadata": {},
   "source": [
    "#### Análise de Valores Nulos"
   ]
  },
  {
   "cell_type": "code",
   "execution_count": null,
   "id": "4a61c784",
   "metadata": {},
   "outputs": [],
   "source": [
    "pctNulosAirline = (airlineDF.isnull().sum() / len(airlineDF)) * 100\n",
    "\n",
    "pctNulosAirline = pctNulosAirline[pctNulosAirline > 0]\n",
    "\n",
    "if not pctNulosAirline.empty:\n",
    "  display(Markdown(\"**Foram encontrados valores nulos. Gerando gráfico...**\"))\n",
    "  pctNulosAirline = pctNulosAirline.sort_values(ascending=False)\n",
    "  \n",
    "  plt.figure(figsize=(12, 8))\n",
    "\n",
    "  ax = pctNulosAirline.plot(kind='bar', color='salmon')\n",
    "\n",
    "  plt.title('Porcentagem de Nulos por Coluna', fontsize=16)\n",
    "  plt.ylabel('Porcentagem de Valores Nulos (%)', fontsize=12)\n",
    "  plt.xlabel('Colunas do DataFrame', fontsize=12)\n",
    "  plt.xticks(rotation=45, ha='right')\n",
    "  plt.tight_layout()\n",
    "  \n",
    "  ax.yaxis.set_major_formatter(mtick.PercentFormatter())\n",
    "  \n",
    "  for p in ax.patches:\n",
    "    ax.annotate(f'{p.get_height():.2f}%', \n",
    "                (p.get_x() + p.get_width() / 2., p.get_height()), \n",
    "                ha='center', va='center', \n",
    "                xytext=(0, 9), \n",
    "                textcoords='offset points',\n",
    "                fontsize=11)\n",
    "\n",
    "  plt.ylim(0, pctNulosAirline.max() * 1.15)\n",
    "  plt.show()\n",
    "else:\n",
    "  display(Markdown(\"**Não foram encontrados valores nulos no conjunto de dados.**\"))"
   ]
  },
  {
   "cell_type": "markdown",
   "id": "32ebf22f",
   "metadata": {},
   "source": [
    "### Airports\n",
    "\n",
    "- Arquivo complementar:\n",
    "  - Contém os dados dos aeroportos de origem e destino dos voos presentes no arquivo principal."
   ]
  },
  {
   "cell_type": "markdown",
   "id": "725e4249",
   "metadata": {},
   "source": [
    "#### Informações Gerais"
   ]
  },
  {
   "cell_type": "code",
   "execution_count": null,
   "id": "0c770618",
   "metadata": {},
   "outputs": [],
   "source": [
    "airportDF.info()"
   ]
  },
  {
   "cell_type": "markdown",
   "id": "f72dbcc5",
   "metadata": {},
   "source": [
    "#### Amostra de Dados"
   ]
  },
  {
   "cell_type": "code",
   "execution_count": null,
   "id": "9e7d8a0a",
   "metadata": {},
   "outputs": [],
   "source": [
    "airportDF.sample(10)"
   ]
  },
  {
   "cell_type": "markdown",
   "id": "c056b582",
   "metadata": {},
   "source": [
    "#### Resumo Estatístico"
   ]
  },
  {
   "cell_type": "code",
   "execution_count": null,
   "id": "cdd35378",
   "metadata": {},
   "outputs": [],
   "source": [
    "airportDF.describe()"
   ]
  },
  {
   "cell_type": "markdown",
   "id": "12692e5a",
   "metadata": {},
   "source": [
    "#### Análise de Valores Nulos"
   ]
  },
  {
   "cell_type": "code",
   "execution_count": null,
   "id": "f10c9145",
   "metadata": {},
   "outputs": [],
   "source": [
    "pctNulosAirport = (airportDF.isnull().sum() / len(airportDF)) * 100\n",
    "\n",
    "pctNulosAirport = pctNulosAirport[pctNulosAirport > 0]\n",
    "\n",
    "if not pctNulosAirport.empty:\n",
    "  display(Markdown(\"Foram encontrados valores nulos. Gerando gráfico...\"))\n",
    "  pctNulosAirport = pctNulosAirport.sort_values(ascending=False)\n",
    "\n",
    "  plt.figure(figsize=(12, 8))\n",
    "\n",
    "  ax = pctNulosAirport.plot(kind='bar', color='salmon')\n",
    "\n",
    "  plt.title('Contagem de Valores Nulos por Coluna', fontsize=16)\n",
    "  plt.ylabel('Quantidade de Valores Nulos', fontsize=12)\n",
    "  plt.xlabel('Colunas do DataFrame', fontsize=12)\n",
    "  plt.xticks(rotation=45, ha='right')\n",
    "  plt.tight_layout()\n",
    "  \n",
    "  ax.yaxis.set_major_formatter(mtick.PercentFormatter())\n",
    "    \n",
    "  for p in ax.patches:\n",
    "    ax.annotate(f'{p.get_height():.2f}%', \n",
    "                (p.get_x() + p.get_width() / 2., p.get_height()), \n",
    "                ha='center', va='center', \n",
    "                xytext=(0, 9), \n",
    "                textcoords='offset points',\n",
    "                fontsize=11)\n",
    "\n",
    "  plt.ylim(0, pctNulosFlight.max() * 1.15)\n",
    "  plt.show()\n",
    "else:\n",
    "  display(Markdown(\"Não foram encontrados valores nulos no conjunto de dados.\"))"
   ]
  },
  {
   "cell_type": "markdown",
   "id": "8665236b",
   "metadata": {},
   "source": [
    "## Análise do Arquivo Principal (flights.csv)"
   ]
  },
  {
   "cell_type": "markdown",
   "id": "315f0f53",
   "metadata": {},
   "source": [
    "### Distribuição de Atrasos (Saída)\n",
    "\n",
    "- Objetivo: visualizar o comportamento geral dos atrasos na decolagem dos voos."
   ]
  },
  {
   "cell_type": "code",
   "execution_count": null,
   "id": "972fb357",
   "metadata": {},
   "outputs": [],
   "source": [
    "fig, axes = plt.subplots(1, 2, figsize=(16, 6))\n",
    "\n",
    "# Para mostrar o gráfico sem filtro, comente a linha abaixo\n",
    "filtroAtrasoSaida = flightDF['departure_delay'].between(-60, 180)\n",
    "\n",
    "# Gráfico 1: Histograma\n",
    "sns.histplot(flightDF.loc[filtroAtrasoSaida, 'departure_delay'], bins=40, kde=True, ax=axes[0], color='royalblue')\n",
    "axes[0].set_title('Distribuição dos Atrasos na Saída (Histograma)', fontsize=16)\n",
    "axes[0].set_xlabel('Atraso na Saída (Minutos)', fontsize=12)\n",
    "axes[0].set_ylabel('Frequência (Nº de Voos)', fontsize=12)\n",
    "\n",
    "# Gráfico 2: Box Plot\n",
    "sns.boxplot(x=flightDF.loc[filtroAtrasoSaida, 'departure_delay'], ax=axes[1], color='lightcoral', width=.5)\n",
    "axes[1].set_title('Distribuição dos Atrasos na Saída (Box Plot)', fontsize=16)\n",
    "axes[1].set_xlabel('Atraso na Saída (Minutos)', fontsize=12)\n",
    "\n",
    "plt.tight_layout()\n",
    "plt.show()"
   ]
  },
  {
   "cell_type": "markdown",
   "id": "44dcb906",
   "metadata": {},
   "source": [
    "### Distribuição de Atrasos (Chegada)\n",
    "\n",
    "- Objetivo: visualizar o comportamento geral dos atrasos na aterrisagem dos voos."
   ]
  },
  {
   "cell_type": "code",
   "execution_count": null,
   "id": "ca1445ce",
   "metadata": {},
   "outputs": [],
   "source": [
    "fig, axes = plt.subplots(1, 2, figsize=(16, 6))\n",
    "\n",
    "# Para mostrar o gráfico sem filtro, comente a linha abaixo\n",
    "filtroAtrasoChegada = flightDF['arrival_delay'].between(-60, 180)\n",
    "\n",
    "# Gráfico 1: Histograma\n",
    "sns.histplot(flightDF.loc[filtroAtrasoChegada, 'arrival_delay'], bins=40, kde=True, ax=axes[0], color='royalblue')\n",
    "axes[0].set_title('Distribuição dos Atrasos na Chegada (Histograma)', fontsize=16)\n",
    "axes[0].set_xlabel('Atraso na Chegada (Minutos)', fontsize=12)\n",
    "axes[0].set_ylabel('Frequência (Nº de Voos)', fontsize=12)\n",
    "\n",
    "# Gráfico 2: Box Plot\n",
    "sns.boxplot(x=flightDF.loc[filtroAtrasoChegada, 'arrival_delay'], ax=axes[1], color='lightcoral', width=.5)\n",
    "axes[1].set_title('Distribuição dos Chegada na Chegada (Box Plot)', fontsize=16)\n",
    "axes[1].set_xlabel('Atraso na Chegada (Minutos)', fontsize=12)\n",
    "\n",
    "plt.tight_layout()\n",
    "plt.show()"
   ]
  },
  {
   "cell_type": "markdown",
   "id": "dc2a1f2e",
   "metadata": {},
   "source": [
    "### Distribuição de Voos (Companhia Aérea)\n",
    "\n",
    "- Objetivo: visualizar o volume de voos por companhia aérea."
   ]
  },
  {
   "cell_type": "code",
   "execution_count": null,
   "id": "f99b6e16",
   "metadata": {},
   "outputs": [],
   "source": [
    "countAirlines = flightDF['airline'].value_counts()\n",
    "\n",
    "top10Airlines = countAirlines.head(10)\n",
    "\n",
    "plt.figure(figsize=(14, 8))\n",
    "sns.barplot(x=top10Airlines.values, y=top10Airlines.index, palette='viridis', orient='h')\n",
    "\n",
    "plt.title('Top 10 Companhias Aéreas por Número de Voos', fontsize=16)\n",
    "plt.xlabel('Número de Voos', fontsize=12)\n",
    "plt.ylabel('Companhia Aérea (Código IATA)', fontsize=12)\n",
    "plt.xticks(fontsize=11)\n",
    "plt.yticks(fontsize=11)\n",
    "\n",
    "plt.tight_layout()\n",
    "plt.show()"
   ]
  },
  {
   "cell_type": "markdown",
   "id": "b31c33cd",
   "metadata": {},
   "source": [
    "### Distribuição de Voos (Mês)\n",
    "\n",
    "- Objetivo: visualizar os meses com a maior porcentagem de voos no ano."
   ]
  },
  {
   "cell_type": "code",
   "execution_count": null,
   "id": "fae6621f",
   "metadata": {},
   "outputs": [],
   "source": [
    "pctPerMonth = flightDF['month'].value_counts(normalize=True) * 100\n",
    "\n",
    "pctPerMonth = pctPerMonth.sort_index()\n",
    "\n",
    "mapMonth = {\n",
    "  1: 'Janeiro',\n",
    "  2: 'Fevereiro',\n",
    "  3: 'Março',\n",
    "  4: 'Abril',\n",
    "  5: 'Maio',\n",
    "  6: 'Junho',\n",
    "  7: 'Julho',\n",
    "  8: 'Agosto',\n",
    "  9: 'Setembro',\n",
    "  10: 'Outubro',\n",
    "  11: 'Novembro',\n",
    "  12: 'Dezembro'\n",
    "}\n",
    "\n",
    "pctPerMonth = pctPerMonth.rename(index=pctPerMonth)\n",
    "\n",
    "plt.figure(figsize=(14, 8))\n",
    "ax = sns.barplot(x=pctPerMonth.values, y=pctPerMonth.index, palette='viridis', orient='h')\n",
    "\n",
    "plt.title('Porcentagem de Voos por Mês', fontsize=16)\n",
    "plt.xlabel('Porcentagem de Voos (%)', fontsize=12)\n",
    "plt.ylabel('Mês', fontsize=12)\n",
    "plt.xticks(fontsize=11)\n",
    "plt.yticks(fontsize=11)\n",
    "\n",
    "ax.xaxis.set_major_formatter(mtick.PercentFormatter())\n",
    "for index, value in enumerate(pctPerMonth):\n",
    "    plt.text(value, index, f' {value:.2f}%', va='center', fontsize=11, color='black')\n",
    "\n",
    "plt.tight_layout()\n",
    "plt.show()"
   ]
  },
  {
   "cell_type": "markdown",
   "id": "335b1d99",
   "metadata": {},
   "source": [
    "### Distribuição de Voos (Dia da Semana)\n",
    "\n",
    "- Objetivo: visualizar quais os dias da semana com a maior porcentagem de voos."
   ]
  },
  {
   "cell_type": "code",
   "execution_count": null,
   "id": "734a150d",
   "metadata": {},
   "outputs": [],
   "source": [
    "pctPerDay = flightDF['day_of_week'].value_counts(normalize=True) * 100\n",
    "\n",
    "pctPerDay = pctPerDay.sort_index()\n",
    "\n",
    "mapDays = {\n",
    "  1: 'Segunda-feira',\n",
    "  2: 'Terça-feira',\n",
    "  3: 'Quarta-feira',\n",
    "  4: 'Quinta-feira',\n",
    "  5: 'Sexta-feira',\n",
    "  6: 'Sábado',\n",
    "  7: 'Domingo'\n",
    "}\n",
    "\n",
    "pctPerDay = pctPerDay.rename(index=mapDays)\n",
    "\n",
    "plt.figure(figsize=(14, 8))\n",
    "ax = sns.barplot(x=pctPerDay.values, y=pctPerDay.index, palette='viridis', orient='h')\n",
    "\n",
    "plt.title('Porcentagem de Voos por Dia da Semana', fontsize=16)\n",
    "plt.xlabel('Porcentagem de Voos (%)', fontsize=12)\n",
    "plt.ylabel('Dia da Semana', fontsize=12)\n",
    "plt.xticks(fontsize=11)\n",
    "plt.yticks(fontsize=11)\n",
    "\n",
    "ax.xaxis.set_major_formatter(mtick.PercentFormatter())\n",
    "for index, value in enumerate(pctPerDay):\n",
    "    plt.text(value, index, f' {value:.2f}%', va='center', fontsize=11, color='black')\n",
    "\n",
    "plt.tight_layout()\n",
    "plt.show()"
   ]
  }
 ],
 "metadata": {
  "language_info": {
   "name": "python"
  }
 },
 "nbformat": 4,
 "nbformat_minor": 5
}
