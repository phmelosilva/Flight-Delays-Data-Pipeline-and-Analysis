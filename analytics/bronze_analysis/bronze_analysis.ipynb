{
 "cells": [
  {
   "cell_type": "markdown",
   "id": "76d5ea2e",
   "metadata": {},
   "source": [
    "# Análise de Dados - Camada Bronze"
   ]
  },
  {
   "cell_type": "code",
   "execution_count": null,
   "id": "cb4aecd2",
   "metadata": {},
   "outputs": [],
   "source": [
    "import numpy as np\n",
    "import pandas as pd\n",
    "import seaborn as sns\n",
    "import matplotlib.pyplot as plt\n",
    "import matplotlib.ticker as mtick\n",
    "from IPython.display import display, Markdown\n",
    "\n",
    "sns.set_theme(style='whitegrid')"
   ]
  },
  {
   "cell_type": "markdown",
   "id": "ee630503",
   "metadata": {},
   "source": [
    "## Lendo os Dados"
   ]
  },
  {
   "cell_type": "code",
   "execution_count": null,
   "id": "6d131de7",
   "metadata": {},
   "outputs": [],
   "source": [
    "flightDF = pd.read_csv(\"../../datalake/bronze/flights.csv\", sep=\";\", encoding=\"utf-8\")\n",
    "airlineDF = pd.read_csv(\"../../datalake/bronze/airlines.csv\", sep=\";\", encoding=\"utf-8\")\n",
    "airportDF = pd.read_csv(\"../../datalake/bronze/airports.csv\", sep=\";\", encoding=\"utf-8\")"
   ]
  },
  {
   "cell_type": "markdown",
   "id": "861b6e90",
   "metadata": {},
   "source": [
    "## Detalhes dos Arquivos"
   ]
  },
  {
   "cell_type": "markdown",
   "id": "b1d18235",
   "metadata": {},
   "source": [
    "### Flights\n",
    "\n",
    "- Arquivo principal:\n",
    "  - Contém os dados de voos realizados em 2015 nos Estados Unidos."
   ]
  },
  {
   "cell_type": "markdown",
   "id": "c4311b43",
   "metadata": {},
   "source": [
    "#### Informações Gerais"
   ]
  },
  {
   "cell_type": "code",
   "execution_count": null,
   "id": "b7e20a03",
   "metadata": {},
   "outputs": [],
   "source": [
    "flightDF.info()"
   ]
  },
  {
   "cell_type": "markdown",
   "id": "73252aeb",
   "metadata": {},
   "source": [
    "#### Amostra de Dados"
   ]
  },
  {
   "cell_type": "code",
   "execution_count": null,
   "id": "190789db",
   "metadata": {},
   "outputs": [],
   "source": [
    "flightDF.sample(10)"
   ]
  },
  {
   "cell_type": "markdown",
   "id": "0cc6dc7f",
   "metadata": {},
   "source": [
    "#### Resumo Estatístico"
   ]
  },
  {
   "cell_type": "code",
   "execution_count": null,
   "id": "47d1ad1d",
   "metadata": {},
   "outputs": [],
   "source": [
    "flightDF.describe()"
   ]
  },
  {
   "cell_type": "markdown",
   "id": "f6fff56e",
   "metadata": {},
   "source": [
    "#### Análise de Valores Nulos"
   ]
  },
  {
   "cell_type": "code",
   "execution_count": null,
   "id": "cdc48831",
   "metadata": {},
   "outputs": [],
   "source": [
    "pctNulosFlight = (flightDF.isnull().sum() / len(flightDF)) * 100\n",
    "\n",
    "pctNulosFlight = pctNulosFlight[pctNulosFlight > 0]\n",
    "\n",
    "if not pctNulosFlight.empty:\n",
    "  display(Markdown(\"**Foram encontrados valores nulos. Gerando gráfico...**\"))\n",
    "  pctNulosFlight = pctNulosFlight.sort_values(ascending=False)\n",
    "  \n",
    "  plt.figure(figsize=(12, 8))\n",
    "\n",
    "  ax = pctNulosFlight.plot(kind='bar', color='salmon')\n",
    "\n",
    "  plt.title('Porcentagem de Nulos por Coluna', fontsize=16)\n",
    "  plt.ylabel('Porcentagem de Valores Nulos (%)', fontsize=12)\n",
    "  plt.xlabel('Colunas do DataFrame', fontsize=12)\n",
    "  plt.xticks(rotation=45, ha='right')\n",
    "  plt.tight_layout()\n",
    "  \n",
    "  ax.yaxis.set_major_formatter(mtick.PercentFormatter())\n",
    "    \n",
    "  for p in ax.patches:\n",
    "    ax.annotate(f'{p.get_height():.2f}%', \n",
    "                (p.get_x() + p.get_width() / 2., p.get_height()), \n",
    "                ha='center', va='center', \n",
    "                xytext=(0, 9), \n",
    "                textcoords='offset points',\n",
    "                fontsize=11)\n",
    "\n",
    "  plt.ylim(0, pctNulosFlight.max() * 1.15)\n",
    "  plt.show()\n",
    "else:\n",
    "  display(Markdown(\"**Não foram encontrados valores nulos no conjunto de dados.**\"))"
   ]
  },
  {
   "cell_type": "markdown",
   "id": "721e2365",
   "metadata": {},
   "source": [
    "### Airlines\n",
    "\n",
    "- Arquivo complementar:\n",
    "  - Contém os dados das linhas aéreas dos voos presentes no arquivo principal."
   ]
  },
  {
   "cell_type": "markdown",
   "id": "b921ba2b",
   "metadata": {},
   "source": [
    "#### Informações Gerais"
   ]
  },
  {
   "cell_type": "code",
   "execution_count": null,
   "id": "fe0f4b7d",
   "metadata": {},
   "outputs": [],
   "source": [
    "airlineDF.info()"
   ]
  },
  {
   "cell_type": "markdown",
   "id": "939d3a11",
   "metadata": {},
   "source": [
    "#### Amostra de Dados"
   ]
  },
  {
   "cell_type": "code",
   "execution_count": null,
   "id": "c57541a2",
   "metadata": {},
   "outputs": [],
   "source": [
    "airlineDF.sample(10)"
   ]
  },
  {
   "cell_type": "markdown",
   "id": "e03a84cf",
   "metadata": {},
   "source": [
    "#### Resumo Estatístico"
   ]
  },
  {
   "cell_type": "code",
   "execution_count": null,
   "id": "c9c8287c",
   "metadata": {},
   "outputs": [],
   "source": [
    "airlineDF.describe()"
   ]
  },
  {
   "cell_type": "markdown",
   "id": "2ae70a66",
   "metadata": {},
   "source": [
    "#### Análise de Valores Nulos"
   ]
  },
  {
   "cell_type": "code",
   "execution_count": null,
   "id": "4a61c784",
   "metadata": {},
   "outputs": [],
   "source": [
    "pctNulosAirline = (airlineDF.isnull().sum() / len(airlineDF)) * 100\n",
    "\n",
    "pctNulosAirline = pctNulosAirline[pctNulosAirline > 0]\n",
    "\n",
    "if not pctNulosAirline.empty:\n",
    "  display(Markdown(\"**Foram encontrados valores nulos. Gerando gráfico...**\"))\n",
    "  pctNulosAirline = pctNulosAirline.sort_values(ascending=False)\n",
    "  \n",
    "  plt.figure(figsize=(12, 8))\n",
    "\n",
    "  ax = pctNulosAirline.plot(kind='bar', color='salmon')\n",
    "\n",
    "  plt.title('Porcentagem de Nulos por Coluna', fontsize=16)\n",
    "  plt.ylabel('Porcentagem de Valores Nulos (%)', fontsize=12)\n",
    "  plt.xlabel('Colunas do DataFrame', fontsize=12)\n",
    "  plt.xticks(rotation=45, ha='right')\n",
    "  plt.tight_layout()\n",
    "  \n",
    "  ax.yaxis.set_major_formatter(mtick.PercentFormatter())\n",
    "  \n",
    "  for p in ax.patches:\n",
    "    ax.annotate(f'{p.get_height():.2f}%', \n",
    "                (p.get_x() + p.get_width() / 2., p.get_height()), \n",
    "                ha='center', va='center', \n",
    "                xytext=(0, 9), \n",
    "                textcoords='offset points',\n",
    "                fontsize=11)\n",
    "\n",
    "  plt.ylim(0, pctNulosAirline.max() * 1.15)\n",
    "  plt.show()\n",
    "else:\n",
    "  display(Markdown(\"**Não foram encontrados valores nulos no conjunto de dados.**\"))"
   ]
  },
  {
   "cell_type": "markdown",
   "id": "32ebf22f",
   "metadata": {},
   "source": [
    "### Airports\n",
    "\n",
    "- Arquivo complementar:\n",
    "  - Contém os dados dos aeroportos de origem e destino dos voos presentes no arquivo principal."
   ]
  },
  {
   "cell_type": "markdown",
   "id": "725e4249",
   "metadata": {},
   "source": [
    "#### Informações Gerais"
   ]
  },
  {
   "cell_type": "code",
   "execution_count": null,
   "id": "0c770618",
   "metadata": {},
   "outputs": [],
   "source": [
    "airportDF.info()"
   ]
  },
  {
   "cell_type": "markdown",
   "id": "f72dbcc5",
   "metadata": {},
   "source": [
    "#### Amostra de Dados"
   ]
  },
  {
   "cell_type": "code",
   "execution_count": null,
   "id": "9e7d8a0a",
   "metadata": {},
   "outputs": [],
   "source": [
    "airportDF.sample(10)"
   ]
  },
  {
   "cell_type": "markdown",
   "id": "c056b582",
   "metadata": {},
   "source": [
    "#### Resumo Estatístico"
   ]
  },
  {
   "cell_type": "code",
   "execution_count": null,
   "id": "cdd35378",
   "metadata": {},
   "outputs": [],
   "source": [
    "airportDF.describe()"
   ]
  },
  {
   "cell_type": "markdown",
   "id": "12692e5a",
   "metadata": {},
   "source": [
    "#### Análise de Valores Nulos"
   ]
  },
  {
   "cell_type": "code",
   "execution_count": null,
   "id": "f10c9145",
   "metadata": {},
   "outputs": [],
   "source": [
    "pctNulosAirport = (airportDF.isnull().sum() / len(airportDF)) * 100\n",
    "\n",
    "pctNulosAirport = pctNulosAirport[pctNulosAirport > 0]\n",
    "\n",
    "if not pctNulosAirport.empty:\n",
    "  display(Markdown(\"**Foram encontrados valores nulos. Gerando gráfico...**\"))\n",
    "  pctNulosAirport = pctNulosAirport.sort_values(ascending=False)\n",
    "\n",
    "  plt.figure(figsize=(12, 8))\n",
    "\n",
    "  ax = pctNulosAirport.plot(kind='bar', color='salmon')\n",
    "\n",
    "  plt.title('Contagem de Valores Nulos por Coluna', fontsize=16)\n",
    "  plt.ylabel('Quantidade de Valores Nulos', fontsize=12)\n",
    "  plt.xlabel('Colunas do DataFrame', fontsize=12)\n",
    "  plt.xticks(rotation=45, ha='right')\n",
    "  plt.tight_layout()\n",
    "  \n",
    "  ax.yaxis.set_major_formatter(mtick.PercentFormatter())\n",
    "    \n",
    "  for p in ax.patches:\n",
    "    ax.annotate(f'{p.get_height():.2f}%', \n",
    "                (p.get_x() + p.get_width() / 2., p.get_height()), \n",
    "                ha='center', va='center', \n",
    "                xytext=(0, 9), \n",
    "                textcoords='offset points',\n",
    "                fontsize=11)\n",
    "\n",
    "  plt.ylim(0, pctNulosFlight.max() * 1.15)\n",
    "  plt.show()\n",
    "else:\n",
    "  display(Markdown(\"**Não foram encontrados valores nulos no conjunto de dados.**\"))"
   ]
  },
  {
   "cell_type": "markdown",
   "id": "8665236b",
   "metadata": {},
   "source": [
    "## Análise do Arquivo Principal (flights.csv)"
   ]
  },
  {
   "cell_type": "markdown",
   "id": "315f0f53",
   "metadata": {},
   "source": [
    "### Distribuição de Atrasos (Saída)\n",
    "\n",
    "- Objetivo: visualizar o comportamento geral dos atrasos na decolagem dos voos."
   ]
  },
  {
   "cell_type": "code",
   "execution_count": null,
   "id": "972fb357",
   "metadata": {},
   "outputs": [],
   "source": [
    "fig, axes = plt.subplots(1, 2, figsize=(16, 6))\n",
    "\n",
    "# Para mostrar o gráfico sem filtro, comente a linha abaixo\n",
    "filtroAtrasoSaida = flightDF['departure_delay'].between(-60, 180)\n",
    "\n",
    "# Gráfico 1: Histograma\n",
    "sns.histplot(flightDF.loc[filtroAtrasoSaida, 'departure_delay'], bins=40, kde=True, ax=axes[0], color='royalblue')\n",
    "axes[0].set_title('Distribuição dos Atrasos na Saída (Histograma)', fontsize=16)\n",
    "axes[0].set_xlabel('Atraso na Saída (Minutos)', fontsize=12)\n",
    "axes[0].set_ylabel('Frequência (Nº de Voos)', fontsize=12)\n",
    "\n",
    "# Gráfico 2: Box Plot\n",
    "sns.boxplot(x=flightDF.loc[filtroAtrasoSaida, 'departure_delay'], ax=axes[1], color='lightcoral', width=.5)\n",
    "axes[1].set_title('Distribuição dos Atrasos na Saída (Box Plot)', fontsize=16)\n",
    "axes[1].set_xlabel('Atraso na Saída (Minutos)', fontsize=12)\n",
    "\n",
    "plt.tight_layout()\n",
    "plt.show()"
   ]
  },
  {
   "cell_type": "markdown",
   "id": "44dcb906",
   "metadata": {},
   "source": [
    "### Distribuição de Atrasos (Chegada)\n",
    "\n",
    "- Objetivo: visualizar o comportamento geral dos atrasos na aterrisagem dos voos."
   ]
  },
  {
   "cell_type": "code",
   "execution_count": null,
   "id": "ca1445ce",
   "metadata": {},
   "outputs": [],
   "source": [
    "fig, axes = plt.subplots(1, 2, figsize=(16, 6))\n",
    "\n",
    "# Para mostrar o gráfico sem filtro, comente a linha abaixo\n",
    "filtroAtrasoChegada = flightDF['arrival_delay'].between(-60, 180)\n",
    "\n",
    "# Gráfico 1: Histograma\n",
    "sns.histplot(flightDF.loc[filtroAtrasoChegada, 'arrival_delay'], bins=40, kde=True, ax=axes[0], color='royalblue')\n",
    "axes[0].set_title('Distribuição dos Atrasos na Chegada (Histograma)', fontsize=16)\n",
    "axes[0].set_xlabel('Atraso na Chegada (Minutos)', fontsize=12)\n",
    "axes[0].set_ylabel('Frequência (Nº de Voos)', fontsize=12)\n",
    "\n",
    "# Gráfico 2: Box Plot\n",
    "sns.boxplot(x=flightDF.loc[filtroAtrasoChegada, 'arrival_delay'], ax=axes[1], color='lightcoral', width=.5)\n",
    "axes[1].set_title('Distribuição dos Chegada na Chegada (Box Plot)', fontsize=16)\n",
    "axes[1].set_xlabel('Atraso na Chegada (Minutos)', fontsize=12)\n",
    "\n",
    "plt.tight_layout()\n",
    "plt.show()"
   ]
  },
  {
   "cell_type": "markdown",
   "id": "6a478fdb",
   "metadata": {},
   "source": [
    "### Relação Distância X Tempo de Voo\n",
    "\n",
    "- Objetivo: confirmar a relação entre distância e tempo de voo através do cálculo da velocidade média do voo."
   ]
  },
  {
   "cell_type": "code",
   "execution_count": null,
   "id": "efebb44b",
   "metadata": {},
   "outputs": [],
   "source": [
    "velocityFlightDf = flightDF.dropna(subset=['distance', 'air_time']).copy()\n",
    "velocityFlightDf = velocityFlightDf[velocityFlightDf['air_time'] > 0]\n",
    "\n",
    "sns.regplot(data=flightDF, x='distance', y='air_time',\n",
    "            scatter_kws={'alpha': 0.2, 'color': 'gray'},\n",
    "            line_kws={'color': 'red', 'linewidth': 3})\n",
    "\n",
    "plt.title('Correlação entre Distância e Tempo de Voo', fontsize=16)\n",
    "plt.xlabel('Distância (em milhas)', fontsize=12)\n",
    "plt.ylabel('Tempo no Ar (minutos)', fontsize=12)\n",
    "plt.show()"
   ]
  },
  {
   "cell_type": "markdown",
   "id": "4418ba55",
   "metadata": {},
   "source": [
    "### Voos Cancelados ou Desviados\n",
    "\n",
    "- Objetivo: visualizar a taxa de voos cancelados ou que aterrisaram em aeroportos diferentes dos planejados."
   ]
  },
  {
   "cell_type": "code",
   "execution_count": null,
   "id": "c0de11ce",
   "metadata": {},
   "outputs": [],
   "source": [
    "canceledRate = flightDF['cancelled'].mean() * 100\n",
    "divertedRate = flightDF['diverted'].mean() * 100\n",
    "\n",
    "dados_plot = {\n",
    "    'Status': ['Cancelado', 'Desviado'],\n",
    "    'Taxa (%)': [canceledRate, divertedRate]\n",
    "}\n",
    "df_plot = pd.DataFrame(dados_plot)\n",
    "\n",
    "fig, ax = plt.subplots(figsize=(8, 6))\n",
    "sns.barplot(x='Status', y='Taxa (%)', data=df_plot, palette=['firebrick', 'goldenrod'])\n",
    "\n",
    "for p in ax.patches:\n",
    "  ax.annotate(f'{p.get_height():.2f}%', \n",
    "              (p.get_x() + p.get_width() / 2., p.get_height()), \n",
    "              ha='center', va='center', \n",
    "              xytext=(0, 9), \n",
    "              textcoords='offset points',\n",
    "              fontsize=12,\n",
    "              fontweight='bold')\n",
    "\n",
    "ax.set_ylim(0, max(canceledRate, divertedRate) * 1.2)\n",
    "ax.set_title('Taxa Percentual de Voos Cancelados e Desviados', fontsize=16)\n",
    "ax.set_xlabel('Status do Voo', fontsize=12)\n",
    "ax.set_ylabel('Porcentagem do Total de Voos', fontsize=12)\n",
    "\n",
    "plt.show()"
   ]
  },
  {
   "cell_type": "markdown",
   "id": "303da687",
   "metadata": {},
   "source": [
    "### Coerência de tempo de voo\n",
    "\n",
    "- Objetivo: visualizar se o tempo total de voo realmente é a soma do tempo no solo e tempo no ar."
   ]
  },
  {
   "cell_type": "code",
   "execution_count": null,
   "id": "d4f1553d",
   "metadata": {},
   "outputs": [],
   "source": [
    "filteredFlightDF = flightDF.dropna(subset=['elapsed_time', 'taxi_out', 'taxi_in', 'air_time']).copy()\n",
    "filteredFlightDF['air_time_calculated'] = filteredFlightDF['elapsed_time'] - filteredFlightDF['taxi_out'] - filteredFlightDF['taxi_in']\n",
    "\n",
    "filteredFlightDF['air_time_diff'] = filteredFlightDF['air_time'] - filteredFlightDF['air_time_calculated']\n",
    "\n",
    "# Filtrando por discrepâncias maiores do que 5 minutos\n",
    "dataWithProblem = filteredFlightDF[abs(filteredFlightDF['air_time_diff']) > 5]\n",
    "if not dataWithProblem.empty:\n",
    "  message = f\"⚠️ **Alerta:** Encontrados **{len(dataWithProblem)} voos** com inconsistências no tempo de voo maiores do que 5 minutos.\"\n",
    "  display(Markdown(message))\n",
    "  display(Markdown(\"Os voos com as maiores discrepâncias são:\"))\n",
    "  display(dataWithProblem.sort_values(by='air_time_diff', key=abs, ascending=False))\n",
    "  \n",
    "  # Gráfico de Dispersão\n",
    "  plt.figure(figsize=(10, 10))\n",
    "  sns.scatterplot(data=filteredFlightDF, x='air_time', y='air_time_calculated', alpha=0.3)\n",
    "  plt.plot([0, filteredFlightDF['air_time'].max()], [0, filteredFlightDF['air_time'].max()], color='red', linestyle='--', label='Coerência Perfeita')\n",
    "\n",
    "  plt.title('Verificação de Coerência: Tempo de Voo Reportado vs. Calculado', fontsize=16)\n",
    "  plt.xlabel('Tempo de Voo Reportado (air_time)', fontsize=12)\n",
    "  plt.ylabel('Tempo de Voo Calculado (elapsed_time - taxi)', fontsize=12)\n",
    "  plt.legend()\n",
    "  plt.axis('equal')\n",
    "\n",
    "  plt.show()\n",
    "else:\n",
    "  message = f\"✅ **Sucesso:** Nenhuma inconsistência significativa (maior que 5 minutos) foi encontrada nos tempos de voo.\"\n",
    "  display(Markdown(message))"
   ]
  },
  {
   "cell_type": "markdown",
   "id": "fd525496",
   "metadata": {},
   "source": [
    "### Verificação de voos impossíveis\n",
    "\n",
    "- Objetivo: visualizar se existem voos com tempo ou distância igual a 0 ou negativos."
   ]
  },
  {
   "cell_type": "code",
   "execution_count": null,
   "id": "6aa08965",
   "metadata": {},
   "outputs": [],
   "source": [
    "impossibleFlights = flightDF[\n",
    "  (flightDF['air_time'] <= 0 and flightDF['canceled'] == 0) | \n",
    "  (flightDF['distance'] <= 0 and flightDF['canceled'] == 0) |\n",
    "  (flightDF['taxi_in'] <= 0 and flightDF['canceled'] == 0) |\n",
    "  (flightDF['taxi_out'] <= 0 and flightDF['canceled'] == 0) |\n",
    "  (flightDF['elapsed_time'] <= 0 and flightDF['canceled'] == 0)\n",
    "]\n",
    "\n",
    "if not impossibleFlights.empty:\n",
    "  message = f\"⚠️ Encontrados {len(impossibleFlights)} voos com tempos/distâncias impossíveis (<= 0):\"\n",
    "  display(Markdown(message))\n",
    "  display(impossibleFlights.head())\n",
    "else:\n",
    "  message = \"✅ Nenhum voo com tempos ou distâncias impossíveis (<= 0) foi encontrado.\"\n",
    "  display(Markdown(message))"
   ]
  }
 ],
 "metadata": {
  "language_info": {
   "name": "python"
  }
 },
 "nbformat": 4,
 "nbformat_minor": 5
}
