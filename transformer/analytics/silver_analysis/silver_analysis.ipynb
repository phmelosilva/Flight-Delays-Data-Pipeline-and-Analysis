{
 "cells": [
  {
   "cell_type": "markdown",
   "id": "76d5ea2e",
   "metadata": {},
   "source": [
    "# Análise de Dados - Camada Silver\n",
    "\n",
    "#### **IMPORTANTE:** Esse notebook está apresentando gráficos temporários para evitar perda de trabalho. Eles serão refatorados no futuro pois, atualmente, estão sendo feitos sobre dados da camada bronze."
   ]
  },
  {
   "cell_type": "code",
   "execution_count": null,
   "id": "cb4aecd2",
   "metadata": {},
   "outputs": [],
   "source": [
    "import numpy as np\n",
    "import pandas as pd\n",
    "import seaborn as sns\n",
    "import matplotlib.pyplot as plt\n",
    "import matplotlib.ticker as mtick\n",
    "from IPython.display import display, Markdown\n",
    "\n",
    "sns.set_theme(style='whitegrid')"
   ]
  },
  {
   "cell_type": "markdown",
   "id": "ee630503",
   "metadata": {},
   "source": [
    "## Lendo os Dados"
   ]
  },
  {
   "cell_type": "code",
   "execution_count": null,
   "id": "6d131de7",
   "metadata": {},
   "outputs": [],
   "source": [
    "flightDF = pd.read_csv(\"../../datalake/bronze/flights.csv\", sep=\";\", encoding=\"utf-8\")\n",
    "airlineDF = pd.read_csv(\"../../datalake/bronze/airlines.csv\", sep=\";\", encoding=\"utf-8\")\n",
    "airportDF = pd.read_csv(\"../../datalake/bronze/airports.csv\", sep=\";\", encoding=\"utf-8\")"
   ]
  },
  {
   "cell_type": "markdown",
   "id": "8665236b",
   "metadata": {},
   "source": [
    "## Análise do Arquivo Principal (flights.csv)"
   ]
  },
  {
   "cell_type": "markdown",
   "id": "dc2a1f2e",
   "metadata": {},
   "source": [
    "### Distribuição de Voos (Companhia Aérea)\n",
    "\n",
    "- Objetivo: visualizar o volume de voos por companhia aérea."
   ]
  },
  {
   "cell_type": "code",
   "execution_count": null,
   "id": "f99b6e16",
   "metadata": {},
   "outputs": [],
   "source": [
    "countAirlines = flightDF['airline'].value_counts()\n",
    "\n",
    "top10Airlines = countAirlines.head(10)\n",
    "\n",
    "plt.figure(figsize=(14, 8))\n",
    "sns.barplot(x=top10Airlines.values, y=top10Airlines.index, palette='viridis', orient='h')\n",
    "\n",
    "plt.title('Top 10 Companhias Aéreas por Número de Voos', fontsize=16)\n",
    "plt.xlabel('Número de Voos', fontsize=12)\n",
    "plt.ylabel('Companhia Aérea (Código IATA)', fontsize=12)\n",
    "plt.xticks(fontsize=11)\n",
    "plt.yticks(fontsize=11)\n",
    "\n",
    "plt.tight_layout()\n",
    "plt.show()"
   ]
  },
  {
   "cell_type": "markdown",
   "id": "b31c33cd",
   "metadata": {},
   "source": [
    "### Distribuição de Voos (Mês)\n",
    "\n",
    "- Objetivo: visualizar os meses com a maior porcentagem de voos no ano."
   ]
  },
  {
   "cell_type": "code",
   "execution_count": null,
   "id": "fae6621f",
   "metadata": {},
   "outputs": [],
   "source": [
    "pctPerMonth = flightDF['month'].value_counts(normalize=True) * 100\n",
    "\n",
    "pctPerMonth = pctPerMonth.sort_index()\n",
    "\n",
    "mapMonth = {\n",
    "  1: 'Janeiro',\n",
    "  2: 'Fevereiro',\n",
    "  3: 'Março',\n",
    "  4: 'Abril',\n",
    "  5: 'Maio',\n",
    "  6: 'Junho',\n",
    "  7: 'Julho',\n",
    "  8: 'Agosto',\n",
    "  9: 'Setembro',\n",
    "  10: 'Outubro',\n",
    "  11: 'Novembro',\n",
    "  12: 'Dezembro'\n",
    "}\n",
    "\n",
    "pctPerMonth = pctPerMonth.rename(index=pctPerMonth)\n",
    "\n",
    "plt.figure(figsize=(14, 8))\n",
    "ax = sns.barplot(x=pctPerMonth.values, y=pctPerMonth.index, palette='viridis', orient='h')\n",
    "\n",
    "plt.title('Porcentagem de Voos por Mês', fontsize=16)\n",
    "plt.xlabel('Porcentagem de Voos (%)', fontsize=12)\n",
    "plt.ylabel('Mês', fontsize=12)\n",
    "plt.xticks(fontsize=11)\n",
    "plt.yticks(fontsize=11)\n",
    "\n",
    "ax.xaxis.set_major_formatter(mtick.PercentFormatter())\n",
    "for index, value in enumerate(pctPerMonth):\n",
    "    plt.text(value, index, f' {value:.2f}%', va='center', fontsize=11, color='black')\n",
    "\n",
    "plt.tight_layout()\n",
    "plt.show()"
   ]
  },
  {
   "cell_type": "markdown",
   "id": "335b1d99",
   "metadata": {},
   "source": [
    "### Distribuição de Voos (Dia da Semana)\n",
    "\n",
    "- Objetivo: visualizar quais os dias da semana com a maior porcentagem de voos."
   ]
  },
  {
   "cell_type": "code",
   "execution_count": null,
   "id": "734a150d",
   "metadata": {},
   "outputs": [],
   "source": [
    "pctPerDay = flightDF['day_of_week'].value_counts(normalize=True) * 100\n",
    "\n",
    "pctPerDay = pctPerDay.sort_index()\n",
    "\n",
    "mapDays = {\n",
    "  1: 'Segunda-feira',\n",
    "  2: 'Terça-feira',\n",
    "  3: 'Quarta-feira',\n",
    "  4: 'Quinta-feira',\n",
    "  5: 'Sexta-feira',\n",
    "  6: 'Sábado',\n",
    "  7: 'Domingo'\n",
    "}\n",
    "\n",
    "pctPerDay = pctPerDay.rename(index=mapDays)\n",
    "\n",
    "plt.figure(figsize=(14, 8))\n",
    "ax = sns.barplot(x=pctPerDay.values, y=pctPerDay.index, palette='viridis', orient='h')\n",
    "\n",
    "plt.title('Porcentagem de Voos por Dia da Semana', fontsize=16)\n",
    "plt.xlabel('Porcentagem de Voos (%)', fontsize=12)\n",
    "plt.ylabel('Dia da Semana', fontsize=12)\n",
    "plt.xticks(fontsize=11)\n",
    "plt.yticks(fontsize=11)\n",
    "\n",
    "ax.xaxis.set_major_formatter(mtick.PercentFormatter())\n",
    "for index, value in enumerate(pctPerDay):\n",
    "    plt.text(value, index, f' {value:.2f}%', va='center', fontsize=11, color='black')\n",
    "\n",
    "plt.tight_layout()\n",
    "plt.show()"
   ]
  },
  {
   "cell_type": "markdown",
   "id": "b30f1fb6",
   "metadata": {},
   "source": [
    "### Aeroportos Mais Movimentados\n",
    "\n",
    "- Objetivo: visualizar os aeroportos que são origem da maior quantidade de voos."
   ]
  },
  {
   "cell_type": "code",
   "execution_count": null,
   "id": "6e40afcc",
   "metadata": {},
   "outputs": [],
   "source": [
    "countAirports = flightDF['origin_airport'].value_counts()\n",
    "\n",
    "top20Airports = countAirports.head(20)\n",
    "\n",
    "plt.figure(figsize=(14, 10))\n",
    "sns.barplot(x=top20Airports.values, y=top20Airports.index, palette='plasma', orient='h')\n",
    "\n",
    "plt.title('Top 20 Aeroportos por Volume de Partidas', fontsize=16)\n",
    "plt.xlabel('Número de Voos (Partidas)', fontsize=12)\n",
    "plt.ylabel('Aeroporto de Origem (Código IATA)', fontsize=12)\n",
    "\n",
    "plt.tight_layout()\n",
    "plt.show()"
   ]
  },
  {
   "cell_type": "code",
   "execution_count": null,
   "id": "0e429ba7-7af9-4437-a6c4-c6e26c7fe3aa",
   "metadata": {},
   "outputs": [],
   "source": [
    "fig, ax = plt.subplots(figsize=(12, 6))\n",
    "sns.boxplot(\n",
    "    data=flights_df,\n",
    "    x='AIRLINE',\n",
    "    y='ARRIVAL_DELAY',\n",
    "    ax=ax,\n",
    "    showfliers=True,\n",
    "    flierprops=dict(marker='o', markersize=4, alpha=0.4)\n",
    ")\n",
    "sns.stripplot(\n",
    "    data=flights_df.sample(frac=0.02, random_state=42),\n",
    "    x='AIRLINE',\n",
    "    y='ARRIVAL_DELAY',\n",
    "    color='gray',\n",
    "    alpha=0.3,\n",
    "    ax=ax\n",
    ")\n",
    "\n",
    "ax.set_title(\"Distribuição do Atraso na Chegada por Companhia Aérea\", fontsize=13, weight='bold')\n",
    "ax.set_xlabel(\"Companhia Aérea\")\n",
    "ax.set_ylabel(\"Atraso na Chegada (minutos)\")\n",
    "plt.xticks(rotation=45)\n",
    "plt.tight_layout()\n",
    "plt.show()\n"
   ]
  }
 ],
 "metadata": {
  "kernelspec": {
   "display_name": "Python 3 (ipykernel)",
   "language": "python",
   "name": "python3"
  },
  "language_info": {
   "codemirror_mode": {
    "name": "ipython",
    "version": 3
   },
   "file_extension": ".py",
   "mimetype": "text/x-python",
   "name": "python",
   "nbconvert_exporter": "python",
   "pygments_lexer": "ipython3",
   "version": "3.13.5"
  }
 },
 "nbformat": 4,
 "nbformat_minor": 5
}
