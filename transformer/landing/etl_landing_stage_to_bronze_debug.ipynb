{
 "cells": [
  {
   "cell_type": "markdown",
   "id": "3c92d093",
   "metadata": {},
   "source": [
    "# [DEBUG MODE] ETL_LANDING_STAGE_TO_BRONZE"
   ]
  },
  {
   "cell_type": "code",
   "execution_count": 1,
   "id": "aca3bb78",
   "metadata": {
    "vscode": {
     "languageId": "plaintext"
    }
   },
   "outputs": [],
   "source": [
    "stage_path = None\n"
   ]
  },
  {
   "cell_type": "code",
   "execution_count": 15,
   "id": "cb3758c7-5842-49b0-ba4f-2138316819ec",
   "metadata": {},
   "outputs": [
    {
     "name": "stdout",
     "output_type": "stream",
     "text": [
      "[INFO] Project root already in sys.path: /home/jovyan\n"
     ]
    },
    {
     "data": {
      "text/plain": [
       "PosixPath('/home/jovyan')"
      ]
     },
     "execution_count": 15,
     "metadata": {},
     "output_type": "execute_result"
    }
   ],
   "source": [
    "from transformer.utils.project_context import init_project\n",
    "init_project()"
   ]
  },
  {
   "cell_type": "code",
   "execution_count": 2,
   "id": "5be6c43b-dce4-4293-9e5a-658a2406270d",
   "metadata": {},
   "outputs": [],
   "source": [
    "import os\n",
    "from datetime import datetime\n",
    "from pathlib import Path\n",
    "from transformer.utils.spark_helpers import get_spark_session, save_df_as_parquet_file\n",
    "from transformer.utils.file_io import check_files_in_folder, move_files, delete_files\n",
    "from transformer.landing.reassemble_chunks import reassemble_chunks\n"
   ]
  },
  {
   "cell_type": "code",
   "execution_count": 3,
   "id": "82603a30",
   "metadata": {
    "vscode": {
     "languageId": "plaintext"
    }
   },
   "outputs": [
    {
     "name": "stdout",
     "output_type": "stream",
     "text": [
      "Stage path: /opt/airflow/data-layer/stage\n",
      "Bronze path: /opt/airflow/data-layer/bronze\n",
      "Spark cores: *\n"
     ]
    }
   ],
   "source": [
    "stage_path = os.getenv(\"DATA_LAYER_STAGE_PATH\", \"/opt/airflow/data-layer/stage\")\n",
    "bronze_path = os.getenv(\"DATA_LAYER_BRONZE_PATH\", \"/opt/airflow/data-layer/bronze\")\n",
    "spark_cores = os.getenv(\"SPARK_CORES\", \"*\")\n",
    "\n",
    "print(f\"Stage path: {stage_path}\")\n",
    "print(f\"Bronze path: {bronze_path}\")\n",
    "print(f\"Spark cores: {spark_cores}\")\n"
   ]
  },
  {
   "cell_type": "markdown",
   "id": "b331104b-8998-4eb2-a9e9-d05ac2af9ce6",
   "metadata": {},
   "source": [
    "# Inicialização a seção do spark e criando arquivo/pasta de log"
   ]
  },
  {
   "cell_type": "code",
   "execution_count": 4,
   "id": "de042910-38e4-49f8-96ff-9a29c043f780",
   "metadata": {},
   "outputs": [
    {
     "name": "stderr",
     "output_type": "stream",
     "text": [
      "WARNING: Using incubator modules: jdk.incubator.vector\n",
      ":: loading settings :: url = jar:file:/usr/local/lib/python3.12/site-packages/pyspark/jars/ivy-2.5.3.jar!/org/apache/ivy/core/settings/ivysettings.xml\n",
      "Ivy Default Cache set to: /root/.ivy2.5.2/cache\n",
      "The jars for the packages stored in: /root/.ivy2.5.2/jars\n",
      "org.postgresql#postgresql added as a dependency\n",
      ":: resolving dependencies :: org.apache.spark#spark-submit-parent-6bc83f26-245e-4b37-a6ab-59ea041531e0;1.0\n",
      "\tconfs: [default]\n",
      "\tfound org.postgresql#postgresql;42.7.3 in central\n",
      "\tfound org.checkerframework#checker-qual;3.42.0 in central\n",
      "downloading https://repo1.maven.org/maven2/org/postgresql/postgresql/42.7.3/postgresql-42.7.3.jar ...\n",
      "\t[SUCCESSFUL ] org.postgresql#postgresql;42.7.3!postgresql.jar (249ms)\n",
      "downloading https://repo1.maven.org/maven2/org/checkerframework/checker-qual/3.42.0/checker-qual-3.42.0.jar ...\n",
      "\t[SUCCESSFUL ] org.checkerframework#checker-qual;3.42.0!checker-qual.jar (144ms)\n",
      ":: resolution report :: resolve 4020ms :: artifacts dl 400ms\n",
      "\t:: modules in use:\n",
      "\torg.checkerframework#checker-qual;3.42.0 from central in [default]\n",
      "\torg.postgresql#postgresql;42.7.3 from central in [default]\n",
      "\t---------------------------------------------------------------------\n",
      "\t|                  |            modules            ||   artifacts   |\n",
      "\t|       conf       | number| search|dwnlded|evicted|| number|dwnlded|\n",
      "\t---------------------------------------------------------------------\n",
      "\t|      default     |   2   |   2   |   2   |   0   ||   2   |   2   |\n",
      "\t---------------------------------------------------------------------\n",
      ":: retrieving :: org.apache.spark#spark-submit-parent-6bc83f26-245e-4b37-a6ab-59ea041531e0\n",
      "\tconfs: [default]\n",
      "\t2 artifacts copied, 0 already retrieved (1289kB/8ms)\n",
      "25/10/31 02:30:36 WARN NativeCodeLoader: Unable to load native-hadoop library for your platform... using builtin-java classes where applicable\n",
      "Using Spark's default log4j profile: org/apache/spark/log4j2-defaults.properties\n",
      "Setting default log level to \"WARN\".\n",
      "To adjust logging level use sc.setLogLevel(newLevel). For SparkR, use setLogLevel(newLevel).\n"
     ]
    },
    {
     "name": "stdout",
     "output_type": "stream",
     "text": [
      "[02:30:40] Spark session iniciada.\n"
     ]
    }
   ],
   "source": [
    "LOG_DIR = Path(\"/opt/airflow/data-layer/logs/debug/landing\")\n",
    "LOG_DIR.mkdir(parents=True, exist_ok=True)\n",
    "LOG_FILE = LOG_DIR / f\"landing_debug_{datetime.now().strftime('%Y%m%d_%H%M%S')}.log\"\n",
    "\n",
    "def log(msg: str):\n",
    "    timestamp = datetime.now().strftime(\"%H:%M:%S\")\n",
    "    formatted = f\"[{timestamp}] {msg}\"\n",
    "    print(formatted)\n",
    "    with open(LOG_FILE, \"a\") as f:\n",
    "        f.write(formatted + \"\\n\")\n",
    "\n",
    "spark_conf = {\"spark.hadoop.fs.file.impl\": \"org.apache.hadoop.fs.RawLocalFileSystem\"}\n",
    "spark = get_spark_session(\"LandingDebugManual\", master=f\"local[{spark_cores}]\", additional_configs=spark_conf)\n",
    "\n",
    "log(f\"Spark session iniciada.\")\n"
   ]
  },
  {
   "cell_type": "markdown",
   "id": "3227db27-28c2-461d-bfd6-b69a88d0db59",
   "metadata": {},
   "source": [
    "# Task 1 - check_stage_files"
   ]
  },
  {
   "cell_type": "code",
   "execution_count": 5,
   "id": "6f60e25f-9e0d-4bcc-a4b1-f7c42126e748",
   "metadata": {},
   "outputs": [
    {
     "name": "stdout",
     "output_type": "stream",
     "text": [
      "[02:30:43] [INFO] Verificando arquivos csv na stage: /opt/airflow/data-layer/stage\n",
      "[02:30:43] [INFO] 12 arquivo(s) encontrados.\n",
      "[02:30:43]   - /opt/airflow/data-layer/stage/airlines.csv\n",
      "[02:30:43]   - /opt/airflow/data-layer/stage/airports.csv\n",
      "[02:30:43]   - /opt/airflow/data-layer/stage/flights_part_01.csv\n",
      "[02:30:43]   - /opt/airflow/data-layer/stage/flights_part_02.csv\n",
      "[02:30:43]   - /opt/airflow/data-layer/stage/flights_part_03.csv\n",
      "[02:30:43]   - /opt/airflow/data-layer/stage/flights_part_04.csv\n",
      "[02:30:43]   - /opt/airflow/data-layer/stage/flights_part_05.csv\n",
      "[02:30:43]   - /opt/airflow/data-layer/stage/flights_part_06.csv\n",
      "[02:30:43]   - /opt/airflow/data-layer/stage/flights_part_07.csv\n",
      "[02:30:43]   - /opt/airflow/data-layer/stage/flights_part_08.csv\n",
      "[02:30:43]   - /opt/airflow/data-layer/stage/flights_part_09.csv\n",
      "[02:30:43]   - /opt/airflow/data-layer/stage/flights_part_10.csv\n"
     ]
    }
   ],
   "source": [
    "try:\n",
    "    log(f\"[INFO] Verificando arquivos csv na stage: {stage_path}\")\n",
    "    files = check_files_in_folder(stage_path, \"*.csv\")\n",
    "    log(f\"[INFO] {len(files)} arquivo(s) encontrados.\")\n",
    "    for f in files:\n",
    "        log(f\"  - {f}\")\n",
    "except Exception as e:\n",
    "    log(f\"[ERRO] Falha ao listar arquivos: {e}\")\n"
   ]
  },
  {
   "cell_type": "markdown",
   "id": "b78ddf4e-06c8-4ad6-8d01-582ab81ccd64",
   "metadata": {},
   "source": [
    "# Task 2 - unify_flight_chunks"
   ]
  },
  {
   "cell_type": "code",
   "execution_count": 6,
   "id": "6b8c1185-f05e-4e41-8c2b-9e0ffce8f818",
   "metadata": {},
   "outputs": [
    {
     "name": "stdout",
     "output_type": "stream",
     "text": [
      "[02:30:49] [INFO] Iniciando unificação de 10 chunks.\n"
     ]
    },
    {
     "name": "stderr",
     "output_type": "stream",
     "text": [
      "25/10/31 02:30:52 WARN SparkStringUtils: Truncated the string representation of a plan since it was too large. This behavior can be adjusted by setting 'spark.sql.debug.maxToStringFields'.\n",
      "                                                                                "
     ]
    },
    {
     "name": "stdout",
     "output_type": "stream",
     "text": [
      "[02:32:17] [SUCCESS] Arquivo unificado salvo em: /opt/airflow/data-layer/stage/flights.parquet\n"
     ]
    }
   ],
   "source": [
    "try:\n",
    "    chunks = [f for f in files if \"flights_part\" in f]\n",
    "    if not chunks:\n",
    "        log(\"[WARN] Nenhum chunk de voo encontrado.\")\n",
    "        flights_df = None\n",
    "    else:\n",
    "        log(f\"[INFO] Iniciando unificação de {len(chunks)} chunks.\")\n",
    "        flights_df = reassemble_chunks(spark, chunks)\n",
    "        parquet_out = save_df_as_parquet_file(flights_df, stage_path, \"flights.parquet\", single_file=True)\n",
    "        log(f\"[SUCCESS] Arquivo unificado salvo em: {parquet_out}\")\n",
    "except Exception as e:\n",
    "    log(f\"[ERRO] Falha na unificação: {e}.\")\n",
    "    flights_df = None\n"
   ]
  },
  {
   "cell_type": "code",
   "execution_count": 14,
   "id": "1ca70950-8793-4d0d-adfd-6c340f28b039",
   "metadata": {},
   "outputs": [
    {
     "name": "stdout",
     "output_type": "stream",
     "text": [
      "root\n",
      " |-- YEAR: string (nullable = true)\n",
      " |-- MONTH: string (nullable = true)\n",
      " |-- DAY: string (nullable = true)\n",
      " |-- DAY_OF_WEEK: string (nullable = true)\n",
      " |-- AIRLINE: string (nullable = true)\n",
      " |-- FLIGHT_NUMBER: string (nullable = true)\n",
      " |-- TAIL_NUMBER: string (nullable = true)\n",
      " |-- ORIGIN_AIRPORT: string (nullable = true)\n",
      " |-- DESTINATION_AIRPORT: string (nullable = true)\n",
      " |-- SCHEDULED_DEPARTURE: string (nullable = true)\n",
      " |-- DEPARTURE_TIME: string (nullable = true)\n",
      " |-- DEPARTURE_DELAY: string (nullable = true)\n",
      " |-- TAXI_OUT: string (nullable = true)\n",
      " |-- WHEELS_OFF: string (nullable = true)\n",
      " |-- SCHEDULED_TIME: string (nullable = true)\n",
      " |-- ELAPSED_TIME: string (nullable = true)\n",
      " |-- AIR_TIME: string (nullable = true)\n",
      " |-- DISTANCE: string (nullable = true)\n",
      " |-- WHEELS_ON: string (nullable = true)\n",
      " |-- TAXI_IN: string (nullable = true)\n",
      " |-- SCHEDULED_ARRIVAL: string (nullable = true)\n",
      " |-- ARRIVAL_TIME: string (nullable = true)\n",
      " |-- ARRIVAL_DELAY: string (nullable = true)\n",
      " |-- DIVERTED: string (nullable = true)\n",
      " |-- CANCELLED: string (nullable = true)\n",
      " |-- CANCELLATION_REASON: string (nullable = true)\n",
      " |-- AIR_SYSTEM_DELAY: string (nullable = true)\n",
      " |-- SECURITY_DELAY: string (nullable = true)\n",
      " |-- AIRLINE_DELAY: string (nullable = true)\n",
      " |-- LATE_AIRCRAFT_DELAY: string (nullable = true)\n",
      " |-- WEATHER_DELAY: string (nullable = true)\n",
      "\n"
     ]
    }
   ],
   "source": [
    "flights_df.printSchema()"
   ]
  },
  {
   "cell_type": "markdown",
   "id": "ce2e6829-db5e-4267-8017-f85dc46b5b71",
   "metadata": {},
   "source": [
    "# Task 3 - convert_csv_to_parquet"
   ]
  },
  {
   "cell_type": "code",
   "execution_count": 9,
   "id": "7b51b14c-7fcc-48ee-99b4-b6899cbdf26a",
   "metadata": {},
   "outputs": [
    {
     "name": "stdout",
     "output_type": "stream",
     "text": [
      "[02:34:48] [INFO] Convertendo /opt/airflow/data-layer/stage/airlines.csv.\n",
      "[02:34:49] [INFO] Arquivo convertido: airlines.parquet.\n",
      "[02:34:49] [INFO] Convertendo /opt/airflow/data-layer/stage/airports.csv.\n",
      "[02:34:50] [INFO] Arquivo convertido: airports.parquet.\n"
     ]
    }
   ],
   "source": [
    "try:\n",
    "    other_csvs = [f for f in files if \"flights_part\" not in f]\n",
    "    converted_files = []\n",
    "\n",
    "    if not other_csvs:\n",
    "        log(\"[WARN] Nenhum csv adicional encontrado.\")\n",
    "    else:\n",
    "        for csv_file in other_csvs:\n",
    "            log(f\"[INFO] Convertendo {csv_file}.\")\n",
    "            df = spark.read.csv(csv_file, header=True, inferSchema=True)\n",
    "            name = os.path.basename(csv_file).replace(\".csv\", \".parquet\")\n",
    "            save_df_as_parquet_file(df, stage_path, name)\n",
    "            converted_files.append(name)\n",
    "            log(f\"[INFO] Arquivo convertido: {name}.\")\n",
    "except Exception as e:\n",
    "    log(f\"[ERRO] Falha na conversão: {e}\")\n"
   ]
  },
  {
   "cell_type": "code",
   "execution_count": 10,
   "id": "4f194e08-de01-49a2-a52c-607ba76e68f8",
   "metadata": {},
   "outputs": [
    {
     "name": "stdout",
     "output_type": "stream",
     "text": [
      "[02:34:58] [INFO] Visualizando um parquet convertido (/opt/airflow/data-layer/stage/airlines.parquet).\n",
      "root\n",
      " |-- IATA_CODE: string (nullable = true)\n",
      " |-- AIRLINE: string (nullable = true)\n",
      "\n",
      "+---------+----------------------+\n",
      "|IATA_CODE|AIRLINE               |\n",
      "+---------+----------------------+\n",
      "|UA       |United Air Lines Inc. |\n",
      "|AA       |American Airlines Inc.|\n",
      "|US       |US Airways Inc.       |\n",
      "|F9       |Frontier Airlines Inc.|\n",
      "|B6       |JetBlue Airways       |\n",
      "+---------+----------------------+\n",
      "only showing top 5 rows\n"
     ]
    }
   ],
   "source": [
    "try:\n",
    "    parquet_paths = [os.path.join(stage_path, f) for f in os.listdir(stage_path) if f.endswith(\".parquet\")]\n",
    "    if parquet_paths:\n",
    "        log(f\"[INFO] Visualizando um parquet convertido ({parquet_paths[0]}).\")\n",
    "        df_tmp = spark.read.parquet(parquet_paths[0])\n",
    "        df_tmp.printSchema()\n",
    "        df_tmp.show(5, truncate=False)\n",
    "    else:\n",
    "        log(\"[INFO] Nenhum arquivo parquet disponível para inspeção.\")\n",
    "except Exception as e:\n",
    "    log(f\"[ERRO] Falha ao ler Parquet: {e}\")\n"
   ]
  },
  {
   "cell_type": "markdown",
   "id": "8d0cd38a-4c9b-4069-ad39-d9488f904881",
   "metadata": {},
   "source": [
    "# Task 4 - move_files_to_bronze"
   ]
  },
  {
   "cell_type": "code",
   "execution_count": 11,
   "id": "5f7ac0a1-131d-4247-8ff3-2865e2334c21",
   "metadata": {},
   "outputs": [
    {
     "name": "stdout",
     "output_type": "stream",
     "text": [
      "[02:35:09] [INFO] 3 arquivo(s) movidos para bronze/2025-10-31.\n"
     ]
    }
   ],
   "source": [
    "try:\n",
    "    parquet_files = [os.path.join(stage_path, f) for f in os.listdir(stage_path) if f.endswith(\".parquet\")]\n",
    "    if not parquet_files:\n",
    "        log(\"[WARN] Nenhum arquivo parquet encontrado para mover.\")\n",
    "    else:\n",
    "        processing_date = datetime.now().strftime(\"%Y-%m-%d\")\n",
    "        move_files(spark, parquet_files, bronze_path, processing_date)\n",
    "        log(f\"[INFO] {len(parquet_files)} arquivo(s) movidos para bronze/{processing_date}.\")\n",
    "except Exception as e:\n",
    "    log(f\"[ERRO] Falha ao mover arquivos: {e}\")\n"
   ]
  },
  {
   "cell_type": "markdown",
   "id": "be559b82-3795-4727-b3db-619aef32f7fc",
   "metadata": {},
   "source": [
    "# Task 5 - cleanup_stage"
   ]
  },
  {
   "cell_type": "code",
   "execution_count": 12,
   "id": "aba5c403-f312-451c-94d3-5e557acc4687",
   "metadata": {},
   "outputs": [
    {
     "name": "stdout",
     "output_type": "stream",
     "text": [
      "[02:35:29] [INFO] 12 arquivo(s) removidos da stage.\n"
     ]
    }
   ],
   "source": [
    "try:\n",
    "    stage_files = [os.path.join(stage_path, f) for f in os.listdir(stage_path)]\n",
    "    if not stage_files:\n",
    "        log(\"[WARN] Nenhum arquivo para limpar.\")\n",
    "    else:\n",
    "        delete_files(spark, stage_files)\n",
    "        log(f\"[INFO] {len(stage_files)} arquivo(s) removidos da stage.\")\n",
    "except Exception as e:\n",
    "    log(f\"[ERRO] Falha ao limpar stage: {e}.\")\n"
   ]
  },
  {
   "cell_type": "markdown",
   "id": "532c974c-09b7-4a49-9daa-ef3aa5137a75",
   "metadata": {},
   "source": [
    "# Fechando sessão do spark"
   ]
  },
  {
   "cell_type": "code",
   "execution_count": 13,
   "id": "32dccf09-f788-4cda-bfaf-bd5074f62cdb",
   "metadata": {},
   "outputs": [
    {
     "name": "stdout",
     "output_type": "stream",
     "text": [
      "[02:35:37] [INFO] Sessão spark encerrada com sucesso.\n",
      "[02:35:37] [INFO] Logs salvos em: /opt/airflow/data-layer/logs/debug/landing/landing_debug_20251031_023029.log.\n"
     ]
    }
   ],
   "source": [
    "try:\n",
    "    spark.stop()\n",
    "    log(\"[INFO] Sessão spark encerrada com sucesso.\")\n",
    "    log(f\"[INFO] Logs salvos em: {LOG_FILE}.\")\n",
    "except Exception as e:\n",
    "    log(f\"[ERRO] Falha ao encerrar Spark: {e}.\")\n"
   ]
  },
  {
   "cell_type": "code",
   "execution_count": null,
   "id": "0524f8ef-a73b-48c4-9491-3d694f6d9284",
   "metadata": {},
   "outputs": [],
   "source": []
  }
 ],
 "metadata": {
  "kernelspec": {
   "display_name": "Python 3 (ipykernel)",
   "language": "python",
   "name": "python3"
  },
  "language_info": {
   "codemirror_mode": {
    "name": "ipython",
    "version": 3
   },
   "file_extension": ".py",
   "mimetype": "text/x-python",
   "name": "python",
   "nbconvert_exporter": "python",
   "pygments_lexer": "ipython3",
   "version": "3.12.12"
  }
 },
 "nbformat": 4,
 "nbformat_minor": 5
}
