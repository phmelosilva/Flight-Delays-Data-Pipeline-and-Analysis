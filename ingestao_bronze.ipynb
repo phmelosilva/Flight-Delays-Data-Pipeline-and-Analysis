{
 "cells": [
  {
   "cell_type": "markdown",
   "id": "08aa7d37",
   "metadata": {},
   "source": [
    "# IMPORTAÇÃO DAS BIBLIOTECAS E CONFIGURAÇÃO"
   ]
  },
  {
   "cell_type": "code",
   "execution_count": null,
   "id": "e5e96e70",
   "metadata": {},
   "outputs": [],
   "source": [
    "import kaggle\n",
    "import os\n",
    "import pandas as pd\n",
    "from zipfile import ZipFile\n",
    "\n",
    "dataset_name = 'usdot/flight-delays' \n",
    "\n",
    "bronze_path = 'Bronze'"
   ]
  },
  {
   "cell_type": "markdown",
   "id": "c05d986a",
   "metadata": {},
   "source": [
    "# DOWNLOAD E EXTRAÇÃO DOS DADOS"
   ]
  },
  {
   "cell_type": "code",
   "execution_count": 2,
   "id": "98edceea",
   "metadata": {},
   "outputs": [
    {
     "name": "stdout",
     "output_type": "stream",
     "text": [
      "Nenhum arquivo CSV encontrado em 'Bronze'.\n",
      "Baixando o dataset 'usdot/flight-delays' do Kaggle...\n",
      "Dataset URL: https://www.kaggle.com/datasets/usdot/flight-delays\n",
      "\n",
      "Download e extração concluídos com sucesso!\n"
     ]
    }
   ],
   "source": [
    "try:\n",
    "    existing_files = os.listdir(bronze_path)\n",
    "    has_csv_files = any(file.endswith('.csv') for file in existing_files)\n",
    "\n",
    "    if not has_csv_files:\n",
    "        print(f\"Nenhum arquivo CSV encontrado em '{bronze_path}'.\")\n",
    "        print(f\"Baixando o dataset '{dataset_name}' do Kaggle...\")\n",
    "        \n",
    "        kaggle.api.dataset_download_files(dataset_name, path=bronze_path, unzip=True)\n",
    "        \n",
    "        print(\"\\nDownload e extração concluídos com sucesso!\")\n",
    "    else:\n",
    "        print(f\"\\nArquivos de dados já existem na pasta '{bronze_path}'. Pulando o download.\")\n",
    "\n",
    "except Exception as e:\n",
    "    print(f\"\\nOcorreu um erro! Verifique se sua API do Kaggle está configurada.\")\n",
    "    print(f\"Erro: {e}\")"
   ]
  },
  {
   "cell_type": "markdown",
   "id": "89e5f224",
   "metadata": {},
   "source": [
    "# VERIFICAÇÃO E LEITURA DE UM ARQUIVO DE EXEMPLO"
   ]
  },
  {
   "cell_type": "code",
   "execution_count": 3,
   "id": "397cec70",
   "metadata": {},
   "outputs": [
    {
     "name": "stdout",
     "output_type": "stream",
     "text": [
      "\n",
      "Arquivos disponíveis na camada Bronze:\n",
      "- airlines.csv\n",
      "- flights.csv\n",
      "- docsCamadaBronze.pdf\n",
      "- airports.csv\n",
      "\n",
      "Lendo amostra do arquivo: 'airlines.csv'\n"
     ]
    },
    {
     "data": {
      "text/html": [
       "<div>\n",
       "<style scoped>\n",
       "    .dataframe tbody tr th:only-of-type {\n",
       "        vertical-align: middle;\n",
       "    }\n",
       "\n",
       "    .dataframe tbody tr th {\n",
       "        vertical-align: top;\n",
       "    }\n",
       "\n",
       "    .dataframe thead th {\n",
       "        text-align: right;\n",
       "    }\n",
       "</style>\n",
       "<table border=\"1\" class=\"dataframe\">\n",
       "  <thead>\n",
       "    <tr style=\"text-align: right;\">\n",
       "      <th></th>\n",
       "      <th>IATA_CODE</th>\n",
       "      <th>AIRLINE</th>\n",
       "    </tr>\n",
       "  </thead>\n",
       "  <tbody>\n",
       "    <tr>\n",
       "      <th>0</th>\n",
       "      <td>UA</td>\n",
       "      <td>United Air Lines Inc.</td>\n",
       "    </tr>\n",
       "    <tr>\n",
       "      <th>1</th>\n",
       "      <td>AA</td>\n",
       "      <td>American Airlines Inc.</td>\n",
       "    </tr>\n",
       "    <tr>\n",
       "      <th>2</th>\n",
       "      <td>US</td>\n",
       "      <td>US Airways Inc.</td>\n",
       "    </tr>\n",
       "    <tr>\n",
       "      <th>3</th>\n",
       "      <td>F9</td>\n",
       "      <td>Frontier Airlines Inc.</td>\n",
       "    </tr>\n",
       "    <tr>\n",
       "      <th>4</th>\n",
       "      <td>B6</td>\n",
       "      <td>JetBlue Airways</td>\n",
       "    </tr>\n",
       "  </tbody>\n",
       "</table>\n",
       "</div>"
      ],
      "text/plain": [
       "  IATA_CODE                 AIRLINE\n",
       "0        UA   United Air Lines Inc.\n",
       "1        AA  American Airlines Inc.\n",
       "2        US         US Airways Inc.\n",
       "3        F9  Frontier Airlines Inc.\n",
       "4        B6         JetBlue Airways"
      ]
     },
     "metadata": {},
     "output_type": "display_data"
    }
   ],
   "source": [
    "print(\"\\nArquivos disponíveis na camada Bronze:\")\n",
    "final_files = os.listdir(bronze_path)\n",
    "for file in final_files:\n",
    "    print(f\"- {file}\")\n",
    "\n",
    "try:\n",
    "    sample_csv = next((f for f in final_files if f.endswith('.csv')), None)\n",
    "    \n",
    "    if sample_csv:\n",
    "        print(f\"\\nLendo amostra do arquivo: '{sample_csv}'\")\n",
    "        df = pd.read_csv(os.path.join(bronze_path, sample_csv))\n",
    "        display(df.head())\n",
    "    else:\n",
    "        print(\"\\nNenhum arquivo CSV encontrado para carregar como amostra.\")\n",
    "except Exception as e:\n",
    "    print(f\"\\nNão foi possível ler o arquivo CSV de amostra. Erro: {e}\")"
   ]
  }
 ],
 "metadata": {
  "kernelspec": {
   "display_name": "Python 3",
   "language": "python",
   "name": "python3"
  },
  "language_info": {
   "codemirror_mode": {
    "name": "ipython",
    "version": 3
   },
   "file_extension": ".py",
   "mimetype": "text/x-python",
   "name": "python",
   "nbconvert_exporter": "python",
   "pygments_lexer": "ipython3",
   "version": "3.10.12"
  }
 },
 "nbformat": 4,
 "nbformat_minor": 5
}
